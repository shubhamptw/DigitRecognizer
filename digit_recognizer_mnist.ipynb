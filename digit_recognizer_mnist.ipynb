{
  "nbformat": 4,
  "nbformat_minor": 0,
  "metadata": {
    "colab": {
      "name": "digit_recognizer_mnist.ipynb",
      "provenance": [],
      "mount_file_id": "1Qa7PmMnj1KuEw6SbcemQBo0N_0OGNyi1",
      "authorship_tag": "ABX9TyNtJMn8L4q41+HRjohx2L0e",
      "include_colab_link": true
    },
    "kernelspec": {
      "name": "python3",
      "display_name": "Python 3"
    }
  },
  "cells": [
    {
      "cell_type": "markdown",
      "metadata": {
        "id": "view-in-github",
        "colab_type": "text"
      },
      "source": [
        "<a href=\"https://colab.research.google.com/github/shubhamptw/DigitRecognizer/blob/master/digit_recognizer_mnist.ipynb\" target=\"_parent\"><img src=\"https://colab.research.google.com/assets/colab-badge.svg\" alt=\"Open In Colab\"/></a>"
      ]
    },
    {
      "cell_type": "code",
      "metadata": {
        "id": "SsWCxwbQLei_",
        "colab_type": "code",
        "colab": {}
      },
      "source": [
        "import math\n",
        "import random\n",
        "import numpy as np\n",
        "import h5py\n",
        "import pandas as pd\n",
        "import matplotlib.pyplot as plt\n",
        "import tensorflow as tf\n",
        "from tensorflow import keras\n",
        "from tensorflow.python.framework import ops"
      ],
      "execution_count": 0,
      "outputs": []
    },
    {
      "cell_type": "markdown",
      "metadata": {
        "id": "NioqsaCDaq2N",
        "colab_type": "text"
      },
      "source": [
        ""
      ]
    },
    {
      "cell_type": "code",
      "metadata": {
        "id": "KlOxUkqtMFlJ",
        "colab_type": "code",
        "colab": {}
      },
      "source": [
        "(X_train_orig, Y_train_orig), (X_test_orig, Y_test_orig)= tf.keras.datasets.mnist.load_data()"
      ],
      "execution_count": 0,
      "outputs": []
    },
    {
      "cell_type": "code",
      "metadata": {
        "id": "wJUvQZBMNjbb",
        "colab_type": "code",
        "outputId": "12da9312-6539-46d5-f77f-349ebfda8037",
        "colab": {
          "base_uri": "https://localhost:8080/",
          "height": 129
        }
      },
      "source": [
        "np.shape(X_test_orig)i name shjh"
      ],
      "execution_count": 64,
      "outputs": [
        {
          "output_type": "error",
          "ename": "SyntaxError",
          "evalue": "ignored",
          "traceback": [
            "\u001b[0;36m  File \u001b[0;32m\"<ipython-input-64-428dbb6842db>\"\u001b[0;36m, line \u001b[0;32m1\u001b[0m\n\u001b[0;31m    np.shape(X_test_orig)i name shjh\u001b[0m\n\u001b[0m                         ^\u001b[0m\n\u001b[0;31mSyntaxError\u001b[0m\u001b[0;31m:\u001b[0m invalid syntax\n"
          ]
        }
      ]
    },
    {
      "cell_type": "code",
      "metadata": {
        "id": "ajyBqJGFyynW",
        "colab_type": "code",
        "colab": {}
      },
      "source": [
        ""
      ],
      "execution_count": 0,
      "outputs": []
    },
    {
      "cell_type": "code",
      "metadata": {
        "id": "hSUW3oP6NmWR",
        "colab_type": "code",
        "colab": {}
      },
      "source": [
        "index=3643\n",
        "print(Y_train_orig[index])\n",
        "plt.imshow(X_train_orig[index],cmap='Greys')"
      ],
      "execution_count": 0,
      "outputs": []
    },
    {
      "cell_type": "code",
      "metadata": {
        "id": "rRW74rEoOJce",
        "colab_type": "code",
        "colab": {}
      },
      "source": [
        "# reshaping train and test and adding a dimension cos each image is grey and mush be of shape \n",
        "# len*width*1\n",
        "X_train=X_train_orig.reshape(X_train_orig.shape[0],X_train_orig.shape[1]*X_train_orig.shape[2])\n",
        "X_test=X_test_orig.reshape(X_test_orig.shape[0],X_test_orig.shape[1]*X_test_orig.shape[2])\n",
        "Y_train=Y_train_orig.reshape(Y_train_orig.shape[0],1)\n",
        "Y_test=Y_test_orig.reshape(Y_test_orig.shape[0],1)\n",
        "\n"
      ],
      "execution_count": 0,
      "outputs": []
    },
    {
      "cell_type": "code",
      "metadata": {
        "id": "NGTiBaJdPMAR",
        "colab_type": "code",
        "colab": {}
      },
      "source": [
        "X_train=X_train.astype(\"float32\")\n",
        "X_test=X_test.astype(\"float32\")\n",
        "Y_train=Y_train.astype(\"float32\")\n",
        "Y_test=Y_test.astype(\"float32\")\n",
        "X_train/=255\n",
        "X_test/=255;"
      ],
      "execution_count": 0,
      "outputs": []
    },
    {
      "cell_type": "code",
      "metadata": {
        "id": "MYoBjbOFQsdA",
        "colab_type": "code",
        "outputId": "7820e6d8-8d11-4f3d-c164-edf33f406e6a",
        "colab": {
          "base_uri": "https://localhost:8080/",
          "height": 34
        }
      },
      "source": [
        "np.shape(X_train)"
      ],
      "execution_count": 66,
      "outputs": [
        {
          "output_type": "execute_result",
          "data": {
            "text/plain": [
              "(60000, 784)"
            ]
          },
          "metadata": {
            "tags": []
          },
          "execution_count": 66
        }
      ]
    },
    {
      "cell_type": "code",
      "metadata": {
        "id": "dQzuQJ-2Q0hF",
        "colab_type": "code",
        "colab": {}
      },
      "source": [
        "# now train model \n",
        "# if wanna add regularization  add kernel_regularizer=keras.regularizers.l2(l=0.0001) in model.add func\n",
        "model=keras.Sequential()\n",
        "model.add(keras.layers.Dense(300, activation=\"relu\"))\n",
        "model.add(keras.layers.Dense(100, activation=\"relu\"))\n",
        "model.add(keras.layers.Dense(10, activation=\"softmax\"))\n",
        "\n"
      ],
      "execution_count": 0,
      "outputs": []
    },
    {
      "cell_type": "code",
      "metadata": {
        "id": "KptnjTgzRK1t",
        "colab_type": "code",
        "colab": {}
      },
      "source": [
        "model.compile(optimizer=\"adam\",loss=\"sparse_categorical_crossentropy\",metrics=[\"accuracy\"])"
      ],
      "execution_count": 0,
      "outputs": []
    },
    {
      "cell_type": "code",
      "metadata": {
        "id": "_JFI7xRlRdJQ",
        "colab_type": "code",
        "outputId": "147c6211-a79c-4bdd-99c6-2117d59d2f08",
        "colab": {
          "base_uri": "https://localhost:8080/",
          "height": 51
        }
      },
      "source": [
        "\n",
        "print(np.shape(X_train))\n",
        "print(np.shape(Y_train))"
      ],
      "execution_count": 69,
      "outputs": [
        {
          "output_type": "stream",
          "text": [
            "(60000, 784)\n",
            "(60000, 1)\n"
          ],
          "name": "stdout"
        }
      ]
    },
    {
      "cell_type": "code",
      "metadata": {
        "id": "j7BJMJRdR7Vg",
        "colab_type": "code",
        "outputId": "c0d925e3-e39b-4a86-abee-a78f2c096a0f",
        "colab": {
          "base_uri": "https://localhost:8080/",
          "height": 731
        }
      },
      "source": [
        "model.fit(X_train,Y_train,epochs=20)"
      ],
      "execution_count": 70,
      "outputs": [
        {
          "output_type": "stream",
          "text": [
            "Train on 60000 samples\n",
            "Epoch 1/20\n",
            "60000/60000 [==============================] - 6s 97us/sample - loss: 0.6689 - acc: 0.8007\n",
            "Epoch 2/20\n",
            "60000/60000 [==============================] - 5s 88us/sample - loss: 0.3263 - acc: 0.9050\n",
            "Epoch 3/20\n",
            "60000/60000 [==============================] - 5s 87us/sample - loss: 0.2749 - acc: 0.9193\n",
            "Epoch 4/20\n",
            "60000/60000 [==============================] - 5s 87us/sample - loss: 0.2339 - acc: 0.9316\n",
            "Epoch 5/20\n",
            "60000/60000 [==============================] - 5s 86us/sample - loss: 0.1991 - acc: 0.9417\n",
            "Epoch 6/20\n",
            "60000/60000 [==============================] - 5s 86us/sample - loss: 0.1696 - acc: 0.9502\n",
            "Epoch 7/20\n",
            "60000/60000 [==============================] - 5s 85us/sample - loss: 0.1456 - acc: 0.9569\n",
            "Epoch 8/20\n",
            "60000/60000 [==============================] - 5s 87us/sample - loss: 0.1271 - acc: 0.9620\n",
            "Epoch 9/20\n",
            "60000/60000 [==============================] - 5s 86us/sample - loss: 0.1117 - acc: 0.9671\n",
            "Epoch 10/20\n",
            "60000/60000 [==============================] - 5s 87us/sample - loss: 0.0999 - acc: 0.9696\n",
            "Epoch 11/20\n",
            "60000/60000 [==============================] - 5s 86us/sample - loss: 0.0878 - acc: 0.9732\n",
            "Epoch 12/20\n",
            "60000/60000 [==============================] - 6s 98us/sample - loss: 0.0793 - acc: 0.9761\n",
            "Epoch 13/20\n",
            "60000/60000 [==============================] - 6s 98us/sample - loss: 0.0705 - acc: 0.9792\n",
            "Epoch 14/20\n",
            "60000/60000 [==============================] - 5s 87us/sample - loss: 0.0641 - acc: 0.9806\n",
            "Epoch 15/20\n",
            "60000/60000 [==============================] - 5s 87us/sample - loss: 0.0583 - acc: 0.9821\n",
            "Epoch 16/20\n",
            "60000/60000 [==============================] - 5s 86us/sample - loss: 0.0526 - acc: 0.9837\n",
            "Epoch 17/20\n",
            "60000/60000 [==============================] - 5s 87us/sample - loss: 0.0480 - acc: 0.9853\n",
            "Epoch 18/20\n",
            "60000/60000 [==============================] - 5s 85us/sample - loss: 0.0439 - acc: 0.9863\n",
            "Epoch 19/20\n",
            "60000/60000 [==============================] - 5s 86us/sample - loss: 0.0400 - acc: 0.9876\n",
            "Epoch 20/20\n",
            "60000/60000 [==============================] - 5s 85us/sample - loss: 0.0368 - acc: 0.9884\n"
          ],
          "name": "stdout"
        },
        {
          "output_type": "execute_result",
          "data": {
            "text/plain": [
              "<tensorflow.python.keras.callbacks.History at 0x7f82426b5198>"
            ]
          },
          "metadata": {
            "tags": []
          },
          "execution_count": 70
        }
      ]
    },
    {
      "cell_type": "code",
      "metadata": {
        "id": "r_A-MpyCUWtr",
        "colab_type": "code",
        "outputId": "317679f9-2aab-4df7-8b56-94d0994464c6",
        "colab": {
          "base_uri": "https://localhost:8080/",
          "height": 34
        }
      },
      "source": [
        "model.evaluate(X_test,Y_test)"
      ],
      "execution_count": 71,
      "outputs": [
        {
          "output_type": "execute_result",
          "data": {
            "text/plain": [
              "[0.08760724789882078, 0.9733]"
            ]
          },
          "metadata": {
            "tags": []
          },
          "execution_count": 71
        }
      ]
    },
    {
      "cell_type": "code",
      "metadata": {
        "id": "h4A8jDtzU6p0",
        "colab_type": "code",
        "colab": {}
      },
      "source": [
        "model.save(\"/content/drive/My Drive/dl_folder/digit_recog_mnist_model.h5\")"
      ],
      "execution_count": 0,
      "outputs": []
    },
    {
      "cell_type": "code",
      "metadata": {
        "id": "Nh3NjL6NcX6h",
        "colab_type": "code",
        "colab": {}
      },
      "source": [
        "#converting into .tflite for android app"
      ],
      "execution_count": 0,
      "outputs": []
    },
    {
      "cell_type": "code",
      "metadata": {
        "id": "1tCvRblsnSSu",
        "colab_type": "code",
        "colab": {}
      },
      "source": [
        "converter=tf.lite.TFLiteConverter.from_keras_model(model)"
      ],
      "execution_count": 0,
      "outputs": []
    },
    {
      "cell_type": "code",
      "metadata": {
        "id": "MeiGBgm9ne8l",
        "colab_type": "code",
        "colab": {}
      },
      "source": [
        "tflite_model=converter.convert()"
      ],
      "execution_count": 0,
      "outputs": []
    },
    {
      "cell_type": "code",
      "metadata": {
        "id": "8EX6gG3joVG8",
        "colab_type": "code",
        "colab": {}
      },
      "source": [
        "tflite_model_name=\"mymodel.tflite\""
      ],
      "execution_count": 0,
      "outputs": []
    },
    {
      "cell_type": "code",
      "metadata": {
        "id": "X6K2fmnap3gA",
        "colab_type": "code",
        "colab": {
          "base_uri": "https://localhost:8080/",
          "height": 34
        },
        "outputId": "33dae992-41ec-4021-a2f0-e36b7af8589f"
      },
      "source": [
        "open(tflite_model_name,\"wb\").write(tflite_model)"
      ],
      "execution_count": 24,
      "outputs": [
        {
          "output_type": "execute_result",
          "data": {
            "text/plain": [
              "1067828"
            ]
          },
          "metadata": {
            "tags": []
          },
          "execution_count": 24
        }
      ]
    },
    {
      "cell_type": "code",
      "metadata": {
        "id": "Ry33nTH32KcI",
        "colab_type": "code",
        "colab": {}
      },
      "source": [
        ""
      ],
      "execution_count": 0,
      "outputs": []
    }
  ]
}